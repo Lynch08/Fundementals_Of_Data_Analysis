{
 "cells": [
  {
   "cell_type": "markdown",
   "id": "d042b9d3-9ecb-44b4-a1be-2a422cd850cd",
   "metadata": {
    "tags": []
   },
   "source": [
    "# CAO Points Analysis\n",
    "\n",
    "[CAO](http://www.cao.ie/index.php?page=points&p=2021)\n",
    "\n",
    "***"
   ]
  },
  {
   "cell_type": "code",
   "execution_count": 36,
   "id": "6baf899d-b343-4eb0-9ca9-791776fcb88f",
   "metadata": {},
   "outputs": [],
   "source": [
    "# Regular Expressions\n",
    "import re\n",
    "\n",
    "# Convenient HTTP Requests.\n",
    "import requests as rq\n",
    "\n",
    "# dates and times\n",
    "import datetime as dt"
   ]
  },
  {
   "cell_type": "code",
   "execution_count": 37,
   "id": "ee00a04b-e303-4bb6-abed-e2e90d021f91",
   "metadata": {},
   "outputs": [
    {
     "data": {
      "text/plain": [
       "<Response [200]>"
      ]
     },
     "execution_count": 37,
     "metadata": {},
     "output_type": "execute_result"
    }
   ],
   "source": [
    "# Fetch CAO points URL\n",
    "resp = rq.get('http://www2.cao.ie/points/l8.php')\n",
    "# Have a quick peek\n",
    "resp"
   ]
  },
  {
   "cell_type": "markdown",
   "id": "2a96f9db-6e7f-4e52-9947-259e509a7a0a",
   "metadata": {},
   "source": [
    "# Save original data set"
   ]
  },
  {
   "cell_type": "code",
   "execution_count": 38,
   "id": "ccb7c333-1618-434d-8e69-1460dcb5201b",
   "metadata": {},
   "outputs": [],
   "source": [
    "# Get Current date and time.\n",
    "now = dt.datetime.now()\n",
    "\n",
    "# Format as string\n",
    "nowstr = now.strftime('%Y%m%d_%H%M%S')"
   ]
  },
  {
   "cell_type": "code",
   "execution_count": 39,
   "id": "b52c55d4-14aa-4065-82b5-39131055c118",
   "metadata": {},
   "outputs": [],
   "source": [
    "#Create file path for original data\n",
    "path = 'data/cao2021_'+ nowstr + '.html'"
   ]
  },
  {
   "cell_type": "markdown",
   "id": "14912ff1-f815-4d6f-94e9-988fc29cd4a8",
   "metadata": {},
   "source": [
    "### Error on Server\n",
    "- Server says we should decode as per:\n",
    "    Content-Type: text/html; charset=iso-8859-1\n",
    "- However one line uses \\x96 which is not defined in iso-8859-1\n",
    "- Therefore we used the similar decoding standard cp1252\n",
    "- This is very similar but includes \\x96"
   ]
  },
  {
   "cell_type": "code",
   "execution_count": null,
   "id": "c5a2d5ff-6383-49f9-a743-746301d74565",
   "metadata": {},
   "outputs": [],
   "source": []
  },
  {
   "cell_type": "code",
   "execution_count": 40,
   "id": "b1768aa9-85d2-48d8-8ec7-4341515680d6",
   "metadata": {},
   "outputs": [],
   "source": [
    "# Server uses the incorrect encoding\n",
    "original_encoding = resp.encoding\n",
    "# Change to cp1252\n",
    "resp.encoding = 'cp1252'"
   ]
  },
  {
   "cell_type": "code",
   "execution_count": null,
   "id": "d698f202-418a-4200-8c5f-a25c00daa237",
   "metadata": {},
   "outputs": [],
   "source": []
  },
  {
   "cell_type": "code",
   "execution_count": null,
   "id": "ddc843e5-e3da-4b58-897c-bedbe2b5ee7a",
   "metadata": {},
   "outputs": [],
   "source": []
  },
  {
   "cell_type": "code",
   "execution_count": 41,
   "id": "2c511559-d37d-47d1-b7a2-f12e5b1add8d",
   "metadata": {},
   "outputs": [],
   "source": [
    "# Save The orginal html file\n",
    "with open(path, 'w') as f:\n",
    "    f.write(resp.text)"
   ]
  },
  {
   "cell_type": "code",
   "execution_count": 42,
   "id": "c80ea927-b295-404a-b8cd-1f2d8416ec10",
   "metadata": {
    "scrolled": true,
    "tags": []
   },
   "outputs": [
    {
     "data": {
      "text/plain": [
       "'cp1252'"
      ]
     },
     "execution_count": 42,
     "metadata": {},
     "output_type": "execute_result"
    }
   ],
   "source": [
    "resp.encoding"
   ]
  },
  {
   "cell_type": "markdown",
   "id": "2e7ddcec-afc6-444c-b4e7-11dc2308d2cd",
   "metadata": {},
   "source": [
    "# Use regular Expressions to select the lines we want"
   ]
  },
  {
   "cell_type": "code",
   "execution_count": 43,
   "id": "0eeb58de-dc75-45c9-86ff-5b3eb5c38e59",
   "metadata": {},
   "outputs": [],
   "source": [
    "# Compile Reg-Ex for Matching lines\n",
    "\n",
    "re_course = re.compile(r'([A-Z]{2}[0-9]{3})(.*)')"
   ]
  },
  {
   "cell_type": "code",
   "execution_count": null,
   "id": "760c422e-2785-46a6-b43a-95c5d8f752d3",
   "metadata": {},
   "outputs": [],
   "source": []
  },
  {
   "cell_type": "code",
   "execution_count": null,
   "id": "ca85b56f-f16b-44e9-8666-90dc7e7d778f",
   "metadata": {},
   "outputs": [],
   "source": []
  },
  {
   "cell_type": "code",
   "execution_count": 44,
   "id": "7722e493-cc04-4bd2-877d-b4aa74ad79ff",
   "metadata": {},
   "outputs": [],
   "source": [
    "def points_to_array(s):\n",
    "    portfolio = ''\n",
    "    if s[0] == '#':\n",
    "        portfolio = '#'\n",
    "    random = ''\n",
    "    if s[-1] == '*':\n",
    "        random = 'True'\n",
    "    points = ''\n",
    "    for i in s:\n",
    "        if i.isdigit():\n",
    "            points = points + i\n",
    "    return [points, portfolio, random]\n",
    "    "
   ]
  },
  {
   "cell_type": "code",
   "execution_count": 45,
   "id": "f0f0986c-c18c-429e-af5b-86940bd8bb81",
   "metadata": {
    "scrolled": true,
    "tags": []
   },
   "outputs": [
    {
     "name": "stdout",
     "output_type": "stream",
     "text": [
      "Total number of lines is 949.\n"
     ]
    }
   ],
   "source": [
    "# File path for data \n",
    "path = 'data/cao2021_csv_'+ nowstr + '.csv'\n",
    "\n",
    "# Keep track of how many courses we process.\n",
    "no_lines = 0\n",
    "\n",
    "# Open CSV file for writing \n",
    "with open (path, 'w') as f:\n",
    "\n",
    "    # loop through lines of the response\n",
    "    for line in resp.iter_lines():\n",
    "        #decode the line using 'cp1252' - wrong encoding\n",
    "        dline = line.decode('cp1252')\n",
    "        # Match only the lines representing courses.\n",
    "        if re_course.fullmatch(dline):\n",
    "            # Add one to the lines counter.\n",
    "            no_lines = no_lines + 1\n",
    "            # The course code\n",
    "            course_code = dline[:5]\n",
    "            #print (course_code)\n",
    "            # course title\n",
    "            course_title = dline[7:59]\n",
    "            #print (course_title)\n",
    "            # Round one points\n",
    "            course_points = re.split(' +', dline[60:])\n",
    "            if len(course_points) !=2:\n",
    "                course_points = course_points[ :2]\n",
    "            # join the fields using a comma\n",
    "            linesplit = [course_code, course_title, course_points[0], course_points[1]]\n",
    "            # Rejoin the substrings with commas\n",
    "            f.write(','.join(linesplit) + '\\n')\n",
    "\n",
    "# Print the total number of processed lines.\n",
    "print(f\"Total number of lines is {no_lines}.\")"
   ]
  },
  {
   "cell_type": "markdown",
   "id": "aa47c457-56e1-4995-b067-798acc355351",
   "metadata": {},
   "source": [
    "<br>\n",
    "\n",
    "**NB:** it was verified as of 09/11/2021 that there were 949 courses exactly in the cao2021 points list"
   ]
  },
  {
   "cell_type": "code",
   "execution_count": null,
   "id": "11127a08-08fe-48ce-bd2e-836fca4bf24c",
   "metadata": {},
   "outputs": [],
   "source": []
  },
  {
   "cell_type": "code",
   "execution_count": null,
   "id": "8bc8ebd3-4e2c-4961-93cd-e262a135d031",
   "metadata": {},
   "outputs": [],
   "source": []
  },
  {
   "cell_type": "code",
   "execution_count": null,
   "id": "08e1bd2d-05a9-4ffa-8a70-98709311db26",
   "metadata": {},
   "outputs": [],
   "source": []
  }
 ],
 "metadata": {
  "kernelspec": {
   "display_name": "Python 3",
   "language": "python",
   "name": "python3"
  },
  "language_info": {
   "codemirror_mode": {
    "name": "ipython",
    "version": 3
   },
   "file_extension": ".py",
   "mimetype": "text/x-python",
   "name": "python",
   "nbconvert_exporter": "python",
   "pygments_lexer": "ipython3",
   "version": "3.8.8"
  }
 },
 "nbformat": 4,
 "nbformat_minor": 5
}
