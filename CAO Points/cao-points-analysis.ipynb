{
 "cells": [
  {
   "cell_type": "markdown",
   "id": "d042b9d3-9ecb-44b4-a1be-2a422cd850cd",
   "metadata": {
    "tags": []
   },
   "source": [
    "# CAO Points Analysis\n",
    "\n",
    "[CAO](http://www.cao.ie/index.php?page=points&p=2021)\n",
    "\n",
    "***"
   ]
  },
  {
   "cell_type": "code",
   "execution_count": 1,
   "id": "6baf899d-b343-4eb0-9ca9-791776fcb88f",
   "metadata": {},
   "outputs": [],
   "source": [
    "# Regular Expressions\n",
    "import re\n",
    "\n",
    "# Convenient HTTP Requests.\n",
    "import requests as rq\n",
    "\n",
    "# dates and times\n",
    "import datetime as dt\n",
    "\n",
    "# For PDF Scrape CAO 2019\n",
    "import PyPDF2\n",
    "import openpyxl"
   ]
  },
  {
   "cell_type": "code",
   "execution_count": 2,
   "id": "ee00a04b-e303-4bb6-abed-e2e90d021f91",
   "metadata": {},
   "outputs": [
    {
     "data": {
      "text/plain": [
       "<Response [200]>"
      ]
     },
     "execution_count": 2,
     "metadata": {},
     "output_type": "execute_result"
    }
   ],
   "source": [
    "# Fetch CAO points URL\n",
    "resp = rq.get('http://www2.cao.ie/points/l8.php')\n",
    "# Have a quick peek\n",
    "resp"
   ]
  },
  {
   "cell_type": "markdown",
   "id": "2a96f9db-6e7f-4e52-9947-259e509a7a0a",
   "metadata": {},
   "source": [
    "# Save original data set"
   ]
  },
  {
   "cell_type": "code",
   "execution_count": 3,
   "id": "ccb7c333-1618-434d-8e69-1460dcb5201b",
   "metadata": {},
   "outputs": [],
   "source": [
    "# Get Current date and time.\n",
    "now = dt.datetime.now()\n",
    "\n",
    "# Format as string\n",
    "nowstr = now.strftime('%Y%m%d_%H%M%S')"
   ]
  },
  {
   "cell_type": "code",
   "execution_count": 4,
   "id": "b52c55d4-14aa-4065-82b5-39131055c118",
   "metadata": {},
   "outputs": [],
   "source": [
    "#Create file path for original data\n",
    "path = 'data/cao2021_'+ nowstr + '.html'"
   ]
  },
  {
   "cell_type": "markdown",
   "id": "14912ff1-f815-4d6f-94e9-988fc29cd4a8",
   "metadata": {},
   "source": [
    "### Error on Server\n",
    "- Server says we should decode as per:\n",
    "    Content-Type: text/html; charset=iso-8859-1\n",
    "- However one line uses \\x96 which is not defined in iso-8859-1\n",
    "- Therefore we used the similar decoding standard cp1252\n",
    "- This is very similar but includes \\x96"
   ]
  },
  {
   "cell_type": "code",
   "execution_count": null,
   "id": "c5a2d5ff-6383-49f9-a743-746301d74565",
   "metadata": {},
   "outputs": [],
   "source": []
  },
  {
   "cell_type": "code",
   "execution_count": 5,
   "id": "b1768aa9-85d2-48d8-8ec7-4341515680d6",
   "metadata": {},
   "outputs": [],
   "source": [
    "# Server uses the incorrect encoding\n",
    "original_encoding = resp.encoding\n",
    "# Change to cp1252\n",
    "resp.encoding = 'cp1252'"
   ]
  },
  {
   "cell_type": "code",
   "execution_count": null,
   "id": "d698f202-418a-4200-8c5f-a25c00daa237",
   "metadata": {},
   "outputs": [],
   "source": []
  },
  {
   "cell_type": "code",
   "execution_count": null,
   "id": "ddc843e5-e3da-4b58-897c-bedbe2b5ee7a",
   "metadata": {},
   "outputs": [],
   "source": []
  },
  {
   "cell_type": "code",
   "execution_count": 6,
   "id": "2c511559-d37d-47d1-b7a2-f12e5b1add8d",
   "metadata": {},
   "outputs": [],
   "source": [
    "# Save The orginal html file\n",
    "with open(path, 'w') as f:\n",
    "    f.write(resp.text)"
   ]
  },
  {
   "cell_type": "code",
   "execution_count": 7,
   "id": "c80ea927-b295-404a-b8cd-1f2d8416ec10",
   "metadata": {
    "scrolled": true,
    "tags": []
   },
   "outputs": [
    {
     "data": {
      "text/plain": [
       "'cp1252'"
      ]
     },
     "execution_count": 7,
     "metadata": {},
     "output_type": "execute_result"
    }
   ],
   "source": [
    "resp.encoding"
   ]
  },
  {
   "cell_type": "markdown",
   "id": "2e7ddcec-afc6-444c-b4e7-11dc2308d2cd",
   "metadata": {},
   "source": [
    "# Use regular Expressions to select the lines we want"
   ]
  },
  {
   "cell_type": "code",
   "execution_count": 8,
   "id": "0eeb58de-dc75-45c9-86ff-5b3eb5c38e59",
   "metadata": {},
   "outputs": [],
   "source": [
    "# Compile Reg-Ex for Matching lines\n",
    "\n",
    "re_course = re.compile(r'([A-Z]{2}[0-9]{3})  (.*)([0-9]{3})(\\*?) *')"
   ]
  },
  {
   "cell_type": "code",
   "execution_count": 9,
   "id": "f0f0986c-c18c-429e-af5b-86940bd8bb81",
   "metadata": {
    "scrolled": true,
    "tags": []
   },
   "outputs": [
    {
     "name": "stdout",
     "output_type": "stream",
     "text": [
      "Total number of lines is 922.\n"
     ]
    }
   ],
   "source": [
    "# File path for data \n",
    "path = 'data/cao2021_csv_'+ nowstr + '.csv'\n",
    "\n",
    "# Keep track of how many courses we process.\n",
    "no_lines = 0\n",
    "\n",
    "# Open CSV file for writing \n",
    "with open (path, 'w') as f:\n",
    "\n",
    "    # loop through lines of the response\n",
    "    for line in resp.iter_lines():\n",
    "        #decode the line using 'cp1252' - wrong encoding\n",
    "        dline = line.decode('cp1252')\n",
    "        # Match only the lines representing courses.\n",
    "        if re_course.fullmatch(dline):\n",
    "            # Add one to the lines counter.\n",
    "            no_lines = no_lines + 1\n",
    "            # Split the line on two or more spaces\n",
    "            linesplit = re.split('  +', dline)\n",
    "            # Rejoin the substrings with commas\n",
    "            f.write(','.join(linesplit) + '\\n')\n",
    "\n",
    "# Print the total number of processed lines.\n",
    "print(f\"Total number of lines is {no_lines}.\")"
   ]
  },
  {
   "cell_type": "code",
   "execution_count": 10,
   "id": "5f3f7a11-2bf0-4a31-9218-f62015eda3d2",
   "metadata": {},
   "outputs": [
    {
     "data": {
      "text/plain": [
       "<Response [200]>"
      ]
     },
     "execution_count": 10,
     "metadata": {},
     "output_type": "execute_result"
    }
   ],
   "source": [
    "\n",
    "\n",
    "# Fetch CAO 2019 points URL - PDF format\n",
    "resp2 = rq.get('http://www2.cao.ie/points/lvl8_19.pdf')\n",
    "# Have a quick peek\n",
    "resp2"
   ]
  },
  {
   "cell_type": "code",
   "execution_count": 11,
   "id": "0a5e4732-f0dc-40fe-8077-7d51b15e93af",
   "metadata": {},
   "outputs": [],
   "source": [
    "#Create file path for original data\n",
    "path2 = 'data/cao2019_'+ nowstr + '.html'"
   ]
  },
  {
   "cell_type": "code",
   "execution_count": 12,
   "id": "1389a761-ab69-43f4-8410-ac70fc8226d4",
   "metadata": {},
   "outputs": [],
   "source": [
    "# Save The orginal html file\n",
    "with open(path2, 'w') as f:\n",
    "    f.write(resp.text)"
   ]
  },
  {
   "cell_type": "code",
   "execution_count": 13,
   "id": "2997c361-8783-46aa-bf01-a25306269ddc",
   "metadata": {},
   "outputs": [],
   "source": [
    "# File path for data \n",
    "path2 = 'data/cao2019_csv_'+ nowstr + '.csv'\n"
   ]
  },
  {
   "cell_type": "code",
   "execution_count": 14,
   "id": "c5cc477c-cf4e-4ebb-94f8-7991f58410da",
   "metadata": {},
   "outputs": [
    {
     "name": "stdout",
     "output_type": "stream",
     "text": [
      "Total number of lines is 3226.\n"
     ]
    }
   ],
   "source": [
    "# Keep track of how many courses we process.\n",
    "#no_lines = 0\n",
    "\n",
    "# Open CSV file for writing \n",
    "with open (path2, 'w') as f:\n",
    "\n",
    "    # loop through lines of the response\n",
    "    for line in resp.iter_lines():\n",
    "            no_lines = no_lines + 1\n",
    "\n",
    "\n",
    "# Print the total number of processed lines.\n",
    "print(f\"Total number of lines is {no_lines}.\")"
   ]
  },
  {
   "cell_type": "code",
   "execution_count": null,
   "id": "89a54d60-52c8-4710-9ab8-dcc680477d9c",
   "metadata": {},
   "outputs": [],
   "source": []
  },
  {
   "cell_type": "code",
   "execution_count": null,
   "id": "aceb6ea8-e5d0-4394-b8d7-b0aafa43a62e",
   "metadata": {},
   "outputs": [],
   "source": []
  },
  {
   "cell_type": "code",
   "execution_count": null,
   "id": "bf1f8be9-abc7-4b94-bada-d3f02a00ae9e",
   "metadata": {},
   "outputs": [],
   "source": []
  },
  {
   "cell_type": "code",
   "execution_count": null,
   "id": "0d04ff9f-caa2-4a8f-9f19-1a98d5ef086e",
   "metadata": {},
   "outputs": [],
   "source": []
  },
  {
   "cell_type": "code",
   "execution_count": 30,
   "id": "11127a08-08fe-48ce-bd2e-836fca4bf24c",
   "metadata": {},
   "outputs": [
    {
     "ename": "SyntaxError",
     "evalue": "(unicode error) 'unicodeescape' codec can't decode bytes in position 2-3: truncated \\UXXXXXXXX escape (<ipython-input-30-eb9ee9adfd36>, line 14)",
     "output_type": "error",
     "traceback": [
      "\u001b[1;36m  File \u001b[1;32m\"<ipython-input-30-eb9ee9adfd36>\"\u001b[1;36m, line \u001b[1;32m14\u001b[0m\n\u001b[1;33m    wb.save('C:\\Users\\lynch08\\Desktop\\GMITWinter2021\\Fundementals_Of_Data_Analysis\\CAO Points.CAO2019.csv')\u001b[0m\n\u001b[1;37m            ^\u001b[0m\n\u001b[1;31mSyntaxError\u001b[0m\u001b[1;31m:\u001b[0m (unicode error) 'unicodeescape' codec can't decode bytes in position 2-3: truncated \\UXXXXXXXX escape\n"
     ]
    }
   ],
   "source": [
    "\n",
    "\n",
    "pdfFileObj = open('http://www2.cao.ie/points/lvl8_19.pdf', 'rb')\n",
    "pdfReader = PyPDF2.PdfFileReader(pdfFileObj)\n",
    "pdfReader.numPages\n",
    "\n"
   ]
  },
  {
   "cell_type": "code",
   "execution_count": null,
   "id": "8bc8ebd3-4e2c-4961-93cd-e262a135d031",
   "metadata": {},
   "outputs": [],
   "source": [
    "pageObj = pdfReader.getPage(0)\n",
    "mytext = pageObj.extractText()\n",
    "\n",
    "\n",
    "wb = openpyxl.load_workbook('C:\\Users\\lynch08\\Desktop\\GMITWinter2021\\Fundementals_Of_Data_Analysis\\CAO Points.CAO2019.csv')\n",
    "sheet = wb.active\n",
    "sheet.title = 'MyPDF'\n",
    "sheet['A1'] = mytext\n",
    "\n",
    "wb.save('C:\\Users\\lynch08\\Desktop\\GMITWinter2021\\Fundementals_Of_Data_Analysis\\CAO Points.CAO2019.csv')\n",
    "print('DONE!!')"
   ]
  },
  {
   "cell_type": "code",
   "execution_count": null,
   "id": "08e1bd2d-05a9-4ffa-8a70-98709311db26",
   "metadata": {},
   "outputs": [],
   "source": []
  }
 ],
 "metadata": {
  "kernelspec": {
   "display_name": "Python 3",
   "language": "python",
   "name": "python3"
  },
  "language_info": {
   "codemirror_mode": {
    "name": "ipython",
    "version": 3
   },
   "file_extension": ".py",
   "mimetype": "text/x-python",
   "name": "python",
   "nbconvert_exporter": "python",
   "pygments_lexer": "ipython3",
   "version": "3.8.8"
  }
 },
 "nbformat": 4,
 "nbformat_minor": 5
}
