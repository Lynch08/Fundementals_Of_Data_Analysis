{
 "cells": [
  {
   "cell_type": "markdown",
   "id": "99e40f0b-1feb-4656-b394-0965919983db",
   "metadata": {},
   "source": [
    "# An In-depth Analysis of the Matplitlib.Pyplot Package for Python\n",
    "\n",
    "[Offical Documentation](https://matplotlib.org/)"
   ]
  },
  {
   "cell_type": "markdown",
   "id": "3938b906-d566-4afd-96e6-42a72fd4f3bf",
   "metadata": {},
   "source": [
    "### Introduction\n",
    "Matplotlib is a comprehensive library for creating static, animated, and interactive visualizations in Python.[[1]](https://matplotlib.org/)\n",
    "That is the one line explaination for the Matplotlib Package from the offical website and honestly I find it a little boring and does not do the package or its power in data analysis justice.\n",
    "I was first introduced to the Matplotlib package in Feb 2021 towards the beginning of my Programming and Scripting module for this course. At this time I was introduced to a number of packages such as [Numpy](https://numpy.org/), [Pandas](https://pandas.pydata.org/) and [Math](https://docs.python.org/3/library/math.html). The size and initial complexity of these packages was a little daunting at the beginning, however once I began to understand that the aim of these packages was to try and take the complexity out of writing code, I became much more grateful and impressed by their rationale. I began to see examples of, and write, basic scripts in other langbuages such as BASH in my Computer Architecture module and I had been exposed to limited SQL and C# from my work. From this I could see how these packages were allowing the author of code to condense and simplify both the reading and writing of the code in the Python environment.\n",
    "\n",
    "This notebook will investigate and discuss some of the features that are available in the Matplotlib Package in an attempt to to deliver a a clear and concise overview of the package.\n",
    "I will use multiple plots from the matplotlib.pyplot Python package to illiustrate the overview. I hope to use a mix of static and random data to give the author of this notebook a glimpse into the power of Matplotlib.\n"
   ]
  },
  {
   "cell_type": "markdown",
   "id": "b4099f36-3470-4d96-8bfa-399984c6b461",
   "metadata": {},
   "source": [
    "### Plots in Data Analysis\n",
    "In my opinion data plots are one of the most valuable tools for any data analyst. They not only show a visualisation of sometimes obscure, unreadable data, they also sometimes give us the ability to make assumptions and decisions based off that data.[[2]](https://livebook.manning.com/book/data-science-bookcamp/chapter-2/v-4/1) Now, from my limited experience, I have found it is extreamly helpful if not essential that the analyser does have a strong grasp of the structure of the underlying data, such as knowing what kind of data is being used, strings, integers, floting points and so on, and how is it being stored (csv, json, .txt) in order to get accurate and insightful plots from the matplotlib package.\n",
    "\n"
   ]
  },
  {
   "cell_type": "markdown",
   "id": "3066b533-5946-4461-b67f-bc238ea94470",
   "metadata": {},
   "source": [
    "### Generating Data\n",
    "To generate the data for my first example of a plot I am going to use a \"random\" number generator from the numpy package.\n",
    "This data will change every time the programme is run - however for the purpose of displaying some of the more basic plots like a histogram that will not be a problem.\n",
    "For the more complex and detailed plots I am going to import static data from a downloaded csv file on a sport I have followed from the last number of years, NFL (or American) Football."
   ]
  },
  {
   "cell_type": "code",
   "execution_count": 1,
   "id": "7908ff79-d687-475d-85bd-839f7a531581",
   "metadata": {},
   "outputs": [],
   "source": [
    "# efficent numerical arreys\n",
    "import numpy as np\n",
    "#plotting\n",
    "import matplotlib.pyplot as plt"
   ]
  },
  {
   "cell_type": "code",
   "execution_count": 6,
   "id": "9f2143d0-ce60-4901-9bee-1721ef880b9d",
   "metadata": {},
   "outputs": [],
   "source": [
    "#change default style sheet\n",
    "plt.style.use('fivethirtyeight')\n",
    "\n",
    "#Change default figure size\n",
    "plt.rcParams['figure.figsize'] = [25,5]"
   ]
  },
  {
   "cell_type": "code",
   "execution_count": 7,
   "id": "d59841ea-5524-4231-93aa-f381a2d95102",
   "metadata": {},
   "outputs": [
    {
     "data": {
      "image/png": "[encoded data removed]",
      "text/plain": [
       "<Figure size 1800x360 with 2 Axes>"
      ]
     },
     "metadata": {},
     "output_type": "display_data"
    }
   ],
   "source": [
    "plt.subplot(1, 2, 1)\n",
    "x = np.random.normal(0.0, 1.0, 10000)\n",
    "plt.hist(x)\n",
    "\n",
    "plt.subplot(1, 2, 2)\n",
    "x = np.random.uniform(-3.0, 3.0, 10000)\n",
    "plt.hist(x)\n",
    "\n",
    "plt.show()"
   ]
  },
  {
   "cell_type": "code",
   "execution_count": null,
   "id": "73552449-51df-4415-aafc-c4ecc6046a17",
   "metadata": {},
   "outputs": [],
   "source": []
  }
 ],
 "metadata": {
  "kernelspec": {
   "display_name": "Python 3",
   "language": "python",
   "name": "python3"
  },
  "language_info": {
   "codemirror_mode": {
    "name": "ipython",
    "version": 3
   },
   "file_extension": ".py",
   "mimetype": "text/x-python",
   "name": "python",
   "nbconvert_exporter": "python",
   "pygments_lexer": "ipython3",
   "version": "3.8.8"
  }
 },
 "nbformat": 4,
 "nbformat_minor": 5
}
