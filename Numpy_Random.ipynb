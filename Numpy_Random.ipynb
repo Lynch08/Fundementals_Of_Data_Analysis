{
 "cells": [
  {
   "cell_type": "markdown",
   "id": "5445e41a-37b5-4d9a-b720-21ecdfba16a9",
   "metadata": {},
   "source": [
    "# The Numpy random package\n",
    "\n",
    "[Offical Documentation](https://numpy.org/doc/1.16/reference/routines.random.html)\n",
    "\n",
    "***"
   ]
  },
  {
   "cell_type": "code",
   "execution_count": 1,
   "id": "345f967f-79cf-444c-95b2-e90e04d10f3f",
   "metadata": {},
   "outputs": [],
   "source": [
    "# efficent numerical arreys\n",
    "import numpy as np\n",
    "#plotting\n",
    "import matplotlib.pyplot as plt"
   ]
  },
  {
   "cell_type": "code",
   "execution_count": 2,
   "id": "d3ed9bc7-34a1-47b9-936f-3781b4631ac1",
   "metadata": {},
   "outputs": [],
   "source": [
    "#change default style sheet\n",
    "plt.style.use('fivethirtyeight')\n",
    "\n",
    "#Change default figure size\n",
    "plt.rcParams['figure.figsize'] = [10,5]\n"
   ]
  },
  {
   "cell_type": "code",
   "execution_count": null,
   "id": "5834e861-a606-47b5-91df-f61acaa8041e",
   "metadata": {},
   "outputs": [],
   "source": []
  },
  {
   "cell_type": "markdown",
   "id": "0ab29bf4-9f78-46b1-a61c-bc4839514609",
   "metadata": {},
   "source": [
    "#Numpy.random.normal\n",
    "\n",
    "\n",
    "[Link](https://numpy.org/doc/stable/reference/random/generated/numpy.random.normal.html)"
   ]
  },
  {
   "cell_type": "code",
   "execution_count": 3,
   "id": "2a39262d-5600-48b8-b031-94b095df55a7",
   "metadata": {},
   "outputs": [],
   "source": [
    "mu, sigma = 0, 0.1 #mean and standard diviation\n",
    "s= np.random.normal(mu, sigma, 1000)"
   ]
  },
  {
   "cell_type": "code",
   "execution_count": 4,
   "id": "838b6dfc-ce55-44c8-bda5-fe92ae3be967",
   "metadata": {},
   "outputs": [
    {
     "data": {
      "text/plain": [
       "array([-0.05460674, -0.20058801, -0.06175602, -0.17120289,  0.06575962,\n",
       "        0.04529951, -0.09174422, -0.07210301,  0.06002328, -0.03062396])"
      ]
     },
     "execution_count": 4,
     "metadata": {},
     "output_type": "execute_result"
    }
   ],
   "source": [
    "# First 10 values\n",
    "s[:10]"
   ]
  },
  {
   "cell_type": "code",
   "execution_count": 5,
   "id": "66f35222-d5c7-4254-bbdb-755f2eeb02fb",
   "metadata": {},
   "outputs": [
    {
     "data": {
      "text/plain": [
       "0.0004683473571223712"
      ]
     },
     "execution_count": 5,
     "metadata": {},
     "output_type": "execute_result"
    }
   ],
   "source": [
    "abs(mu - np.mean(s))"
   ]
  },
  {
   "cell_type": "code",
   "execution_count": 6,
   "id": "fc8e0049-626d-42f4-9628-83a221be6b69",
   "metadata": {},
   "outputs": [
    {
     "data": {
      "text/plain": [
       "0.003708859089128727"
      ]
     },
     "execution_count": 6,
     "metadata": {},
     "output_type": "execute_result"
    }
   ],
   "source": [
    "abs(sigma - np.std(s, ddof=1))"
   ]
  },
  {
   "cell_type": "code",
   "execution_count": 7,
   "id": "03930422-f91b-4aca-a97e-e1c53f95c378",
   "metadata": {},
   "outputs": [
    {
     "data": {
      "image/png": "[encoded data removed]",
      "text/plain": [
       "<Figure size 720x360 with 1 Axes>"
      ]
     },
     "metadata": {},
     "output_type": "display_data"
    }
   ],
   "source": [
    "count, bins, ignored = plt.hist(s, 30, density=True)\n",
    "f = 1/(sigma*np.sqrt(2*np.pi)) * np.exp(-(bins - mu)**2/(2*sigma**2))\n",
    "plt.plot(bins, f,linewidth=2)\n",
    "plt.show()"
   ]
  },
  {
   "cell_type": "markdown",
   "id": "a440a10f-9012-4f2a-97fc-12a2c22a2bbb",
   "metadata": {},
   "source": [
    "***\n",
    "## END\n"
   ]
  },
  {
   "cell_type": "code",
   "execution_count": null,
   "id": "0bacc8ed-78b9-43fd-bc04-651d9c9ad7fd",
   "metadata": {},
   "outputs": [],
   "source": []
  },
  {
   "cell_type": "code",
   "execution_count": null,
   "id": "bb43cecb-2275-4c09-bbd9-f784b60cf458",
   "metadata": {},
   "outputs": [],
   "source": []
  }
 ],
 "metadata": {
  "kernelspec": {
   "display_name": "Python 3",
   "language": "python",
   "name": "python3"
  },
  "language_info": {
   "codemirror_mode": {
    "name": "ipython",
    "version": 3
   },
   "file_extension": ".py",
   "mimetype": "text/x-python",
   "name": "python",
   "nbconvert_exporter": "python",
   "pygments_lexer": "ipython3",
   "version": "3.8.8"
  }
 },
 "nbformat": 4,
 "nbformat_minor": 5
}
