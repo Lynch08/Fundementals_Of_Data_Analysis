{
 "cells": [
  {
   "cell_type": "code",
   "execution_count": 1,
   "id": "8ed3a3f8-cbf0-4926-9940-8997a2948b4a",
   "metadata": {},
   "outputs": [],
   "source": [
    "i = 1\n",
    "j = 2"
   ]
  },
  {
   "cell_type": "code",
   "execution_count": 2,
   "id": "e8ce8229-1932-4bab-b5c1-500d6643b664",
   "metadata": {},
   "outputs": [],
   "source": [
    "k = i + j"
   ]
  },
  {
   "cell_type": "code",
   "execution_count": 9,
   "id": "fe74a068-e4ed-4f64-8438-70db4c1a5d8f",
   "metadata": {},
   "outputs": [
    {
     "data": {
      "text/plain": [
       "3"
      ]
     },
     "execution_count": 9,
     "metadata": {},
     "output_type": "execute_result"
    }
   ],
   "source": [
    "k"
   ]
  },
  {
   "cell_type": "markdown",
   "id": "eb800578-31e2-4b36-87cd-04bf8806d9df",
   "metadata": {},
   "source": [
    "# heading\n",
    "\n",
    "- I am a List\n",
    "- Second List\n",
    "- Final List\n",
    "\n",
    "![](https://encrypted-tbn0.gstatic.com/images?q=tbn:ANd9GcQ7OvUa3anM324dxaV4d6J8M4b7SdZiFSrYdw&usqp=CAU)\n",
    "\n",
    "**BOLD TEXT**"
   ]
  },
  {
   "cell_type": "code",
   "execution_count": null,
   "id": "37e0687f-5595-427e-a810-08f052a0b03b",
   "metadata": {},
   "outputs": [],
   "source": []
  }
 ],
 "metadata": {
  "kernelspec": {
   "display_name": "Python 3",
   "language": "python",
   "name": "python3"
  },
  "language_info": {
   "codemirror_mode": {
    "name": "ipython",
    "version": 3
   },
   "file_extension": ".py",
   "mimetype": "text/x-python",
   "name": "python",
   "nbconvert_exporter": "python",
   "pygments_lexer": "ipython3",
   "version": "3.8.8"
  }
 },
 "nbformat": 4,
 "nbformat_minor": 5
}
