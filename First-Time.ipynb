{
 "cells": [
  {
   "cell_type": "code",
   "execution_count": 5,
   "id": "65d68e6b-5346-480a-8c2f-796199ba4f3c",
   "metadata": {},
   "outputs": [],
   "source": [
    "i = 1\n",
    "j = 2"
   ]
  },
  {
   "cell_type": "code",
   "execution_count": 6,
   "id": "de9a7915-2d28-428a-8b85-219b3f42b4b9",
   "metadata": {},
   "outputs": [],
   "source": [
    "k = i + j"
   ]
  },
  {
   "cell_type": "code",
   "execution_count": 7,
   "id": "d00739c2-740c-432a-a33d-72830b9fecf7",
   "metadata": {},
   "outputs": [
    {
     "data": {
      "text/plain": [
       "3"
      ]
     },
     "execution_count": 7,
     "metadata": {},
     "output_type": "execute_result"
    }
   ],
   "source": [
    "k"
   ]
  },
  {
   "cell_type": "markdown",
   "id": "3ff569d8-dd47-445d-838d-b9e3f8a1f300",
   "metadata": {},
   "source": [
    "# heading\n",
    "\n",
    "- I am a List\n",
    "- Second List\n",
    "- Final List\n",
    "\n",
    "![](https://encrypted-tbn0.gstatic.com/images?q=tbn:ANd9GcQ7OvUa3anM324dxaV4d6J8M4b7SdZiFSrYdw&usqp=CAU)\n",
    "\n",
    "**BOLD TEXT**"
   ]
  },
  {
   "cell_type": "code",
   "execution_count": 9,
   "id": "f0f9f283-281f-4c89-8415-921ad378f0c9",
   "metadata": {},
   "outputs": [
    {
     "name": "stdout",
     "output_type": "stream",
     "text": [
      "hello world\n"
     ]
    }
   ],
   "source": [
    "print (\"hello world\")"
   ]
  },
  {
   "cell_type": "code",
   "execution_count": null,
   "id": "0847da6d-4661-414e-9ba4-a273d2fff6e0",
   "metadata": {},
   "outputs": [],
   "source": [
    "# Input weight (kg) and height (cm)\n",
    "Weight = float (input('Enter Weight in kg: '))   \n",
    "Height = float (input('Enter height in cm: '))                                      \n",
    "Height2 = (float(Height/100)**2)                        # Calculate hight in meters squared\n",
    "BMI = round((Weight/Height2), 2)                        # Calculate BMI to 2 decimal places\n",
    "print ('Your BMI is: {}\\nPlease do not put too much stock in BMI' .format (BMI))                # Display BMI"
   ]
  },
  {
   "cell_type": "code",
   "execution_count": null,
   "id": "c4cf9101-890e-4d03-8d75-ab6adacf2457",
   "metadata": {},
   "outputs": [],
   "source": []
  }
 ],
 "metadata": {
  "kernelspec": {
   "display_name": "Python 3",
   "language": "python",
   "name": "python3"
  },
  "language_info": {
   "codemirror_mode": {
    "name": "ipython",
    "version": 3
   },
   "file_extension": ".py",
   "mimetype": "text/x-python",
   "name": "python",
   "nbconvert_exporter": "python",
   "pygments_lexer": "ipython3",
   "version": "3.8.8"
  }
 },
 "nbformat": 4,
 "nbformat_minor": 5
}
