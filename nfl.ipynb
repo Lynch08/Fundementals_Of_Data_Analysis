{
 "cells": [
  {
   "cell_type": "code",
   "execution_count": null,
   "id": "dd71bfd2-6e4f-4b81-984e-a4e59f24bcc4",
   "metadata": {},
   "outputs": [],
   "source": [
    "# efficent numerical arreys\n",
    "import numpy as np\n",
    "#plotting\n",
    "import matplotlib.pyplot as plt\n",
    "import pandas as pd"
   ]
  },
  {
   "cell_type": "code",
   "execution_count": null,
   "id": "8298e4c8-3e94-46b4-890d-14062fbdac69",
   "metadata": {},
   "outputs": [],
   "source": [
    "# Read in the data\n",
    "nfl_df = pd.read_csv('nfl.csv') "
   ]
  },
  {
   "cell_type": "code",
   "execution_count": null,
   "id": "e4160ef3-8bca-4680-b295-7be1d2cc1a04",
   "metadata": {},
   "outputs": [],
   "source": [
    "#take a peek at raw data\n",
    "nfl_df.head()"
   ]
  },
  {
   "cell_type": "code",
   "execution_count": null,
   "id": "98cf6ca5-a520-4ed1-9970-0726325ac200",
   "metadata": {},
   "outputs": [],
   "source": [
    "# I only want to look at Quarterbacks \n",
    "pos = nfl_df.loc[nfl_df.loc[:, 'pos'] == 'QB']"
   ]
  },
  {
   "cell_type": "code",
   "execution_count": null,
   "id": "e982147a-1544-4f65-9db0-8785baf9ef2a",
   "metadata": {},
   "outputs": [],
   "source": [
    "# These are the only columns I want\n",
    "pos2 = pos[['player', 'pass_att', 'pass_cmp']]"
   ]
  },
  {
   "cell_type": "code",
   "execution_count": null,
   "id": "c7c4c4e7-f712-4728-a5db-e8b32922a093",
   "metadata": {},
   "outputs": [],
   "source": [
    "# This is weekly data\n",
    "# So I want the attemts and completions columns summed using the players name\n",
    "pos3 = pos2.groupby('player')['pass_att', 'pass_cmp'].apply(lambda x : x.astype(int).sum())"
   ]
  },
  {
   "cell_type": "code",
   "execution_count": null,
   "id": "40175171-5cee-4460-84e5-ea6cfda66a55",
   "metadata": {},
   "outputs": [],
   "source": [
    "# Resets the columns correctly after using groupby()\n",
    "pos4 = pos3.reset_index()"
   ]
  },
  {
   "cell_type": "code",
   "execution_count": null,
   "id": "a0a1a13e-c42c-4d56-8577-b436eb7f86d8",
   "metadata": {},
   "outputs": [],
   "source": [
    "# I only want to see guys with over at least 1000 pass attemts\n",
    "pos5 = pos4[pos4.pass_att >1000]"
   ]
  },
  {
   "cell_type": "code",
   "execution_count": null,
   "id": "d228ccaa-bb4e-4e1e-ae13-2ab43aee29fd",
   "metadata": {},
   "outputs": [],
   "source": [
    "#Take a peek at your data\n",
    "pos5"
   ]
  },
  {
   "cell_type": "code",
   "execution_count": null,
   "id": "f457f0a4-f08e-4557-83e0-e425e12165db",
   "metadata": {},
   "outputs": [],
   "source": [
    "# Sort the dataframe by pass attempts\n",
    "nfl_df = pos5\n",
    "nfl_df = nfl_df.sort_values(by ='pass_att', ascending = False)"
   ]
  },
  {
   "cell_type": "code",
   "execution_count": null,
   "id": "6d82673b-776d-4cc9-969b-9f41193da03c",
   "metadata": {},
   "outputs": [],
   "source": [
    "# Peek at the data now I am ready to plot\n",
    "nfl_df "
   ]
  },
  {
   "cell_type": "code",
   "execution_count": null,
   "id": "d94bcb43-cff5-400a-9bd8-f3078ddca496",
   "metadata": {
    "tags": []
   },
   "outputs": [],
   "source": [
    "fig, ax = plt.subplots(figsize=(15, 10))\n",
    "x = nfl_df['pass_att'].values\n",
    "y = nfl_df['pass_cmp'].values\n",
    "t = nfl_df['player'].values\n",
    "ax.scatter(x, y)\n",
    "ax.set_xlabel('Pass Att', fontname=\"Arial\", fontsize=20)\n",
    "ax.set_ylabel('Pass Cmp', fontname=\"Arial\", fontsize=20)\n",
    "ax.set_title('Pass Att vs Pass Cmp', fontname='Comic Sans MS',fontsize=50 )\n",
    "ax.set_facecolor('y')\n",
    "for i, txt in enumerate(t):\n",
    "    ax.annotate(txt, xy=(x[i], y[i]), xytext=(x[i], y[i]+0.5), ha='center', weight = 'bold')\n",
    "plt.show()"
   ]
  },
  {
   "cell_type": "code",
   "execution_count": null,
   "id": "645a9b6f-70a6-442a-806a-a417b254dc4d",
   "metadata": {},
   "outputs": [],
   "source": [
    "fig, ax = plt.subplots(figsize=(15, 10))\n",
    "x = nfl_df['pass_att'].values\n",
    "y = nfl_df['pass_cmp'].values\n",
    "t = nfl_df['player'].values\n",
    "ax.scatter(x, y)\n",
    "ax.set_xlabel('Pass Att', fontname=\"Arial\", fontsize=20)\n",
    "ax.set_ylabel('Pass Cmp', fontname=\"Arial\", fontsize=20)\n",
    "ax.set_title('Pass Att vs Pass Cmp', fontname='Comic Sans MS',fontsize=50 )\n",
    "ax.set_facecolor('y')\n",
    "for i, txt in enumerate(t):\n",
    "    ax.annotate(txt, xy=(x[i], y[i]), xytext=(x[i], y[i]+0.5), ha='center', weight = 'bold')\n",
    "plt.show()\n"
   ]
  },
  {
   "cell_type": "code",
   "execution_count": null,
   "id": "64fa8c87-26f9-4053-a5d7-e8b9c4f7bc7d",
   "metadata": {},
   "outputs": [],
   "source": []
  },
  {
   "cell_type": "code",
   "execution_count": null,
   "id": "4384937a-60dc-4d50-91d0-936ac48992c0",
   "metadata": {},
   "outputs": [],
   "source": []
  },
  {
   "cell_type": "code",
   "execution_count": null,
   "id": "a4b5034f-d47e-47cb-a6a2-ae13821b98ae",
   "metadata": {},
   "outputs": [],
   "source": []
  }
 ],
 "metadata": {
  "kernelspec": {
   "display_name": "Python 3",
   "language": "python",
   "name": "python3"
  },
  "language_info": {
   "codemirror_mode": {
    "name": "ipython",
    "version": 3
   },
   "file_extension": ".py",
   "mimetype": "text/x-python",
   "name": "python",
   "nbconvert_exporter": "python",
   "pygments_lexer": "ipython3",
   "version": "3.8.8"
  }
 },
 "nbformat": 4,
 "nbformat_minor": 5
}
